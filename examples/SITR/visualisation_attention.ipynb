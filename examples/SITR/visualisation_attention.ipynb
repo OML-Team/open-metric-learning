{
 "cells": [
  {
   "cell_type": "code",
   "execution_count": null,
   "id": "5385871f",
   "metadata": {},
   "outputs": [],
   "source": [
    "%load_ext autoreload\n",
    "%autoreload 2\n",
    "\n",
    "import yaml\n",
    "from IPython.core.display import HTML\n",
    "from IPython.display import display\n",
    "import pandas as pd\n",
    "import torch\n",
    "import numpy as np\n",
    "import matplotlib.pyplot as plt\n",
    "import cv2\n",
    "\n",
    "from oml.models.siamese import ConcatSiamese\n",
    "from oml.models.vit.vit import ViTExtractor\n",
    "from oml.const import MOCK_DATASET_PATH\n",
    "from oml.transforms.images.torchvision.transforms import get_normalisation_resize_hypvit\n",
    "from oml.utils.images.images import imread_cv2, imread_pillow\n",
    "\n",
    "display(HTML(\"<style>.container { width:100% !important; }</style>\"))\n",
    "pd.set_option('display.max_rows', 330)\n",
    "\n",
    "%matplotlib inline\n"
   ]
  },
  {
   "cell_type": "code",
   "execution_count": null,
   "id": "58e7dea7",
   "metadata": {
    "scrolled": true
   },
   "outputs": [],
   "source": [
    "extractor = ViTExtractor(arch=\"vits16\", normalise_features=False, weights='/home/daloro/python_projects/open-metric-learning/embedder.ckpt')\n",
    "siamese = ConcatSiamese(extractor=extractor,\n",
    "              mlp_hidden_dims=[192],\n",
    "              weights=\"/home/daloro/python_projects/open-metric-learning/postprocessor.ckpt\"\n",
    "             )"
   ]
  },
  {
   "cell_type": "code",
   "execution_count": null,
   "id": "solar-cyprus",
   "metadata": {},
   "outputs": [],
   "source": [
    "df = pd.read_csv(\"/home/daloro/data/DeepFashion_InShop/df.csv\")\n",
    "df = df[df[\"split\"] == \"validation\"]\n",
    "df.reset_index(inplace=True, drop=True)\n"
   ]
  },
  {
   "cell_type": "code",
   "execution_count": null,
   "id": "ca4a144f",
   "metadata": {},
   "outputs": [],
   "source": [
    "def compare_old(path_1, path_2):\n",
    "    im1 = cv2.resize(imread_cv2(path_1), (224, 224))\n",
    "    im2 = cv2.resize(imread_cv2(path_2), (224, 224))\n",
    "    im = np.concatenate([im1, im2], axis=1)\n",
    "\n",
    "    tensor1 = get_normalisation_resize_hypvit(224, 224)(imread_pillow(path_1)).unsqueeze(0)\n",
    "    tensor2 = get_normalisation_resize_hypvit(224, 224)(imread_pillow(path_2)).unsqueeze(0)\n",
    "    out12 = siamese.predict(tensor1, tensor2)\n",
    "    out21 = siamese.predict(tensor2, tensor1)\n",
    "    print(out12.item(), out21.item())\n",
    "\n",
    "    # attn = extractor.draw_attention(im1);\n",
    "    # plt.imshow(attn)\n",
    "    # plt.show()\n",
    "\n",
    "    # attn = extractor.draw_attention(im2);\n",
    "    # plt.imshow(attn)\n",
    "    # plt.show()\n",
    "\n",
    "    attn1 = extractor.draw_attention(im1);\n",
    "    attn2 = extractor.draw_attention(im2);\n",
    "    attn = np.concatenate([attn1, attn2], axis=1)\n",
    "    plt.imshow(attn)\n",
    "    plt.show()\n",
    "\n",
    "    attn = extractor.draw_attention(im);\n",
    "    plt.imshow(attn)\n",
    "    plt.show()"
   ]
  },
  {
   "cell_type": "code",
   "execution_count": null,
   "id": "45d50a6d",
   "metadata": {},
   "outputs": [],
   "source": [
    "def compare(path_1, path_2):\n",
    "    im1 = cv2.resize(imread_cv2(path_1), (224, 224))\n",
    "    im2 = cv2.resize(imread_cv2(path_2), (224, 224))\n",
    "    \n",
    "    attn1 = extractor.draw_attention(im1);\n",
    "    attn2 = extractor.draw_attention(im2);\n",
    "    attn = np.concatenate([attn1, attn2], axis=1)\n",
    "    plt.imshow(attn)\n",
    "    plt.show()\n",
    "    \n",
    "    im_concat = np.concatenate([im1, im2], axis=1)\n",
    "    \n",
    "    attn_siam = siamese.extractor.draw_attention(im_concat)\n",
    "    plt.imshow(attn_siam)\n",
    "    plt.show()"
   ]
  },
  {
   "cell_type": "code",
   "execution_count": null,
   "id": "uniform-combining",
   "metadata": {},
   "outputs": [],
   "source": [
    "p1 = '/home/daloro/data/DeepFashion_InShop/img_highres/WOMEN/Leggings/id_00002368/01_1_front.jpg'\n",
    "p2 = '/home/daloro/data/DeepFashion_InShop/img_highres/WOMEN/Leggings/id_00002368/01_2_side.jpg'\n",
    "\n",
    "compare(p1, p2)"
   ]
  },
  {
   "cell_type": "code",
   "execution_count": null,
   "id": "09580787",
   "metadata": {},
   "outputs": [],
   "source": [
    "p1 = \"/home/daloro/data/DeepFashion_InShop/img_highres/WOMEN/Dresses/id_00003264/01_7_additional.jpg\"\n",
    "p2 = ['/home/daloro/data/DeepFashion_InShop/img_highres/WOMEN/Pants/id_00005705/02_3_back.jpg', \n",
    "      '/home/daloro/data/DeepFashion_InShop/img_highres/WOMEN/Dresses/id_00003264/02_4_full.jpg']\n",
    "\n",
    "for g in p2:\n",
    "    compare(p1, g)"
   ]
  },
  {
   "cell_type": "code",
   "execution_count": null,
   "id": "fb1e2ad1",
   "metadata": {},
   "outputs": [],
   "source": []
  }
 ],
 "metadata": {
  "kernelspec": {
   "display_name": "Python 3 (ipykernel)",
   "language": "python",
   "name": "python3"
  },
  "language_info": {
   "codemirror_mode": {
    "name": "ipython",
    "version": 3
   },
   "file_extension": ".py",
   "mimetype": "text/x-python",
   "name": "python",
   "nbconvert_exporter": "python",
   "pygments_lexer": "ipython3",
   "version": "3.8.15"
  }
 },
 "nbformat": 4,
 "nbformat_minor": 5
}
