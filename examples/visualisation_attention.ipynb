{
 "cells": [
  {
   "cell_type": "code",
   "execution_count": null,
   "id": "5385871f",
   "metadata": {},
   "outputs": [],
   "source": [
    "%load_ext autoreload\n",
    "%autoreload 2\n",
    "\n",
    "import yaml\n",
    "from IPython.core.display import HTML\n",
    "from IPython.display import display\n",
    "import pandas as pd\n",
    "import torch\n",
    "import numpy as np\n",
    "import matplotlib.pyplot as plt\n",
    "\n",
    "from oml.models.siamese import ConcatSiamese\n",
    "from oml.models.vit.vit import ViTExtractor\n",
    "from oml.const import MOCK_DATASET_PATH\n",
    "from oml.transforms.images.torchvision.transforms import get_normalisation_resize_hypvit\n",
    "from oml.utils.images.images import imread_cv2\n",
    "\n",
    "display(HTML(\"<style>.container { width:100% !important; }</style>\"))\n",
    "pd.set_option('display.max_rows', 330)\n",
    "\n",
    "%matplotlib inline\n"
   ]
  },
  {
   "cell_type": "code",
   "execution_count": null,
   "id": "58e7dea7",
   "metadata": {
    "scrolled": true
   },
   "outputs": [],
   "source": [
    "extractor = ViTExtractor(arch=\"vits16\", normalise_features=False, weights=None)\n",
    "siamese = ConcatSiamese(extractor=extractor,\n",
    "              mlp_hidden_dims=[384, 192],\n",
    "              weights=None\n",
    "             )"
   ]
  },
  {
   "cell_type": "code",
   "execution_count": null,
   "id": "11e33681",
   "metadata": {},
   "outputs": [],
   "source": [
    "im1 = imread_cv2(MOCK_DATASET_PATH / 'images' / \"circle_1.jpg\")\n",
    "im2 = imread_cv2(MOCK_DATASET_PATH / 'images' / \"circle_2.jpg\")\n",
    "\n",
    "im = np.concatenate([im1, im2], axis=1)\n",
    "\n",
    "attn = extractor.draw_attention(im);\n",
    "plt.imshow(attn)\n",
    "plt.show()\n"
   ]
  },
  {
   "cell_type": "code",
   "execution_count": null,
   "id": "b5fb3d30",
   "metadata": {},
   "outputs": [],
   "source": []
  }
 ],
 "metadata": {
  "kernelspec": {
   "display_name": "Python 3 (ipykernel)",
   "language": "python",
   "name": "python3"
  },
  "language_info": {
   "codemirror_mode": {
    "name": "ipython",
    "version": 3
   },
   "file_extension": ".py",
   "mimetype": "text/x-python",
   "name": "python",
   "nbconvert_exporter": "python",
   "pygments_lexer": "ipython3",
   "version": "3.8.13"
  }
 },
 "nbformat": 4,
 "nbformat_minor": 5
}
