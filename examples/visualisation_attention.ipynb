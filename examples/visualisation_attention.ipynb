{
 "cells": [
  {
   "cell_type": "code",
   "execution_count": 56,
   "id": "5385871f",
   "metadata": {},
   "outputs": [
    {
     "name": "stdout",
     "output_type": "stream",
     "text": [
      "The autoreload extension is already loaded. To reload it, use:\n",
      "  %reload_ext autoreload\n"
     ]
    },
    {
     "data": {
      "text/html": [
       "<style>.container { width:100% !important; }</style>"
      ],
      "text/plain": [
       "<IPython.core.display.HTML object>"
      ]
     },
     "metadata": {},
     "output_type": "display_data"
    }
   ],
   "source": [
    "%load_ext autoreload\n",
    "%autoreload 2\n",
    "\n",
    "import yaml\n",
    "from IPython.core.display import HTML\n",
    "from IPython.display import display\n",
    "import pandas as pd\n",
    "import torch\n",
    "import numpy as np\n",
    "import matplotlib.pyplot as plt\n",
    "import cv2\n",
    "\n",
    "from oml.models.siamese import ConcatSiamese\n",
    "from oml.models.vit.vit import ViTExtractor\n",
    "from oml.const import MOCK_DATASET_PATH\n",
    "from oml.transforms.images.torchvision.transforms import get_normalisation_resize_hypvit\n",
    "from oml.utils.images.images import imread_cv2, imread_pillow\n",
    "\n",
    "display(HTML(\"<style>.container { width:100% !important; }</style>\"))\n",
    "pd.set_option('display.max_rows', 330)\n",
    "\n",
    "%matplotlib inline\n"
   ]
  },
  {
   "cell_type": "code",
   "execution_count": 12,
   "id": "58e7dea7",
   "metadata": {
    "scrolled": true
   },
   "outputs": [
    {
     "name": "stdout",
     "output_type": "stream",
     "text": [
      "Prefix <model.> was removed from the state dict.\n"
     ]
    }
   ],
   "source": [
    "extractor = ViTExtractor(arch=\"vits16\", normalise_features=False, weights=None)\n",
    "siamese = ConcatSiamese(extractor=extractor,\n",
    "              mlp_hidden_dims=[192],\n",
    "              weights=\"/nydl/logs/DeepFashion_InShop/2023-02-06_14-56-48_postprocessing/checkpoints/best.ckpt\"\n",
    "             )"
   ]
  },
  {
   "cell_type": "code",
   "execution_count": 23,
   "id": "solar-cyprus",
   "metadata": {},
   "outputs": [],
   "source": [
    "df = pd.read_csv(\"/nydl/data/Stanford_Online_Products/df.csv\")\n",
    "df = df[df[\"split\"] == \"validation\"]\n",
    "df.reset_index(inplace=True, drop=True)\n"
   ]
  },
  {
   "cell_type": "code",
   "execution_count": 61,
   "id": "accompanied-instrumentation",
   "metadata": {},
   "outputs": [
    {
     "ename": "AttributeError",
     "evalue": "'ConcatSiamese' object has no attribute 'predict'",
     "output_type": "error",
     "traceback": [
      "\u001b[0;31m---------------------------------------------------------------------------\u001b[0m",
      "\u001b[0;31mAttributeError\u001b[0m                            Traceback (most recent call last)",
      "Input \u001b[0;32mIn [61]\u001b[0m, in \u001b[0;36m<cell line: 10>\u001b[0;34m()\u001b[0m\n\u001b[1;32m      8\u001b[0m tensor1 \u001b[38;5;241m=\u001b[39m get_normalisation_resize_hypvit(\u001b[38;5;241m224\u001b[39m, \u001b[38;5;241m224\u001b[39m)(imread_pillow(p1))\u001b[38;5;241m.\u001b[39munsqueeze(\u001b[38;5;241m0\u001b[39m)\n\u001b[1;32m      9\u001b[0m tensor2 \u001b[38;5;241m=\u001b[39m get_normalisation_resize_hypvit(\u001b[38;5;241m224\u001b[39m, \u001b[38;5;241m224\u001b[39m)(imread_pillow(p2))\u001b[38;5;241m.\u001b[39munsqueeze(\u001b[38;5;241m0\u001b[39m)\n\u001b[0;32m---> 10\u001b[0m out12 \u001b[38;5;241m=\u001b[39m \u001b[43msiamese\u001b[49m\u001b[38;5;241;43m.\u001b[39;49m\u001b[43mpredict\u001b[49m(tensor1, tensor2)\n\u001b[1;32m     11\u001b[0m out21 \u001b[38;5;241m=\u001b[39m siamese\u001b[38;5;241m.\u001b[39mpredict(tensor2, tensor1)\n\u001b[1;32m     12\u001b[0m \u001b[38;5;28mprint\u001b[39m(out12\u001b[38;5;241m.\u001b[39mitem(), out21\u001b[38;5;241m.\u001b[39mitem())\n",
      "File \u001b[0;32m/usr/local/lib/python3.8/dist-packages/torch/nn/modules/module.py:1207\u001b[0m, in \u001b[0;36mModule.__getattr__\u001b[0;34m(self, name)\u001b[0m\n\u001b[1;32m   1205\u001b[0m     \u001b[38;5;28;01mif\u001b[39;00m name \u001b[38;5;129;01min\u001b[39;00m modules:\n\u001b[1;32m   1206\u001b[0m         \u001b[38;5;28;01mreturn\u001b[39;00m modules[name]\n\u001b[0;32m-> 1207\u001b[0m \u001b[38;5;28;01mraise\u001b[39;00m \u001b[38;5;167;01mAttributeError\u001b[39;00m(\u001b[38;5;124m\"\u001b[39m\u001b[38;5;124m'\u001b[39m\u001b[38;5;132;01m{}\u001b[39;00m\u001b[38;5;124m'\u001b[39m\u001b[38;5;124m object has no attribute \u001b[39m\u001b[38;5;124m'\u001b[39m\u001b[38;5;132;01m{}\u001b[39;00m\u001b[38;5;124m'\u001b[39m\u001b[38;5;124m\"\u001b[39m\u001b[38;5;241m.\u001b[39mformat(\n\u001b[1;32m   1208\u001b[0m     \u001b[38;5;28mtype\u001b[39m(\u001b[38;5;28mself\u001b[39m)\u001b[38;5;241m.\u001b[39m\u001b[38;5;18m__name__\u001b[39m, name))\n",
      "\u001b[0;31mAttributeError\u001b[0m: 'ConcatSiamese' object has no attribute 'predict'"
     ]
    }
   ],
   "source": [
    "p1 = df[\"path\"][90]\n",
    "p2 = df[\"path\"][98]\n",
    "\n",
    "im1 = cv2.resize(imread_cv2(p1), (224, 224))\n",
    "im2 = cv2.resize(imread_cv2(p2), (224, 224))\n",
    "im = np.concatenate([im1, im2], axis=1)\n",
    "\n",
    "tensor1 = get_normalisation_resize_hypvit(224, 224)(imread_pillow(p1)).unsqueeze(0)\n",
    "tensor2 = get_normalisation_resize_hypvit(224, 224)(imread_pillow(p2)).unsqueeze(0)\n",
    "out12 = siamese.predict(tensor1, tensor2)\n",
    "out21 = siamese.predict(tensor2, tensor1)\n",
    "print(out12.item(), out21.item())\n",
    "\n",
    "attn = extractor.draw_attention(im1);\n",
    "plt.imshow(attn)\n",
    "plt.show()\n",
    "\n",
    "attn = extractor.draw_attention(im2);\n",
    "plt.imshow(attn)\n",
    "plt.show()\n",
    "\n",
    "attn = extractor.draw_attention(im);\n",
    "plt.imshow(attn)\n",
    "plt.show()"
   ]
  },
  {
   "cell_type": "code",
   "execution_count": null,
   "id": "uniform-combining",
   "metadata": {},
   "outputs": [],
   "source": []
  }
 ],
 "metadata": {
  "kernelspec": {
   "display_name": "Python 3 (ipykernel)",
   "language": "python",
   "name": "python3"
  },
  "language_info": {
   "codemirror_mode": {
    "name": "ipython",
    "version": 3
   },
   "file_extension": ".py",
   "mimetype": "text/x-python",
   "name": "python",
   "nbconvert_exporter": "python",
   "pygments_lexer": "ipython3",
   "version": "3.8.0"
  }
 },
 "nbformat": 4,
 "nbformat_minor": 5
}
