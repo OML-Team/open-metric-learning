{
 "cells": [
  {
   "cell_type": "code",
   "execution_count": null,
   "id": "vocal-humanitarian",
   "metadata": {},
   "outputs": [],
   "source": [
    "import sys\n",
    "sys.path.append(\"/nydl/code/open-metric-learning/\")"
   ]
  },
  {
   "cell_type": "code",
   "execution_count": null,
   "id": "oriental-clone",
   "metadata": {},
   "outputs": [],
   "source": [
    "%load_ext autoreload\n",
    "%autoreload 2\n",
    "\n",
    "import pandas as pd\n",
    "import yaml\n",
    "from pathlib import Path\n",
    "from IPython.core.display import HTML\n",
    "from IPython.display import display\n",
    "import torch\n",
    "import random\n",
    "\n",
    "from oml.lightning.entrypoints.validate import pl_val\n",
    "from oml.lightning.callbacks.metric import MetricValCallback\n",
    "from oml.const import MOCK_DATASET_PATH\n",
    "from oml.utils.download_mock_dataset import download_mock_dataset\n",
    "\n",
    "display(HTML(\"<style>.container { width:100% !important; }</style>\"))\n",
    "pd.set_option('display.max_rows', 330)\n",
    "\n",
    "%matplotlib inline"
   ]
  },
  {
   "cell_type": "code",
   "execution_count": null,
   "id": "knowing-accreditation",
   "metadata": {},
   "outputs": [],
   "source": [
    "cfg = f\"\"\"\n",
    "    dataset_root: /nydl/data/DeepFashion_InShop/\n",
    "    dataframe_name: df.csv\n",
    "    logs_root: logs\n",
    "    bs_val: 128\n",
    "    num_workers: 10\n",
    "    \n",
    "    transforms_val:\n",
    "      name: norm_resize_hypvit_torch\n",
    "      args:\n",
    "        im_size: 224\n",
    "        crop_size: 224\n",
    "\n",
    "    model:\n",
    "      name: vit\n",
    "      args:\n",
    "        arch: vits16\n",
    "        normalise_features: False\n",
    "        use_multi_scale: False\n",
    "        weights: vits16_inshop\n",
    "\n",
    "    metric_args:\n",
    "      cmc_top_k: [1, 5, 10]\n",
    "      map_top_k: [5]\n",
    "      \n",
    "      \n",
    "    accelerator: gpu\n",
    "    devices: 1\n",
    "  \n",
    "\"\"\""
   ]
  },
  {
   "cell_type": "code",
   "execution_count": null,
   "id": "early-chapel",
   "metadata": {},
   "outputs": [],
   "source": [
    "trainer, ret_dict = pl_val(yaml.load(cfg, Loader=yaml.Loader));\n",
    "clb_metric = [x for x in trainer.callbacks if isinstance(x, MetricValCallback)][0]"
   ]
  },
  {
   "cell_type": "code",
   "execution_count": null,
   "id": "extended-holiday",
   "metadata": {},
   "outputs": [],
   "source": [
    "cfg_p =  cfg + f\"\"\"\n",
    "    postprocessor:\n",
    "      name: pairwise_images\n",
    "      args:\n",
    "        top_n: 5\n",
    "        pairwise_model:\n",
    "          name: concat_siamese\n",
    "          args:\n",
    "            mlp_hidden_dims: [384, 192]\n",
    "            weights: /nydl/logs/DeepFashion_InShop/2023-02-01_15-57-15_postprocessing/checkpoints/best.ckpt\n",
    "            extractor:\n",
    "              name: vit\n",
    "              args:\n",
    "                arch: vits16\n",
    "                normalise_features: False\n",
    "                use_multi_scale: False\n",
    "                weights: null\n",
    "        transforms:\n",
    "          name: norm_resize_hypvit_torch\n",
    "          args:\n",
    "            im_size: 224\n",
    "            crop_size: 224\n",
    "        num_workers: 10\n",
    "        batch_size: 128\n",
    "        verbose: True\n",
    "\n",
    "\"\"\""
   ]
  },
  {
   "cell_type": "code",
   "execution_count": null,
   "id": "arabic-basin",
   "metadata": {
    "scrolled": true
   },
   "outputs": [],
   "source": [
    "trainer_p, ret_dict_p = pl_val(yaml.load(cfg_p, Loader=yaml.Loader));\n",
    "clb_metric_p = [x for x in trainer_p.callbacks if isinstance(x, MetricValCallback)][0]"
   ]
  },
  {
   "cell_type": "code",
   "execution_count": null,
   "id": "processed-reputation",
   "metadata": {},
   "outputs": [],
   "source": [
    "cmc_1 = clb_metric.metric.metrics_unreduced[\"OVERALL\"][\"cmc\"][1]\n",
    "cmc_1_p = clb_metric_p.metric.metrics_unreduced[\"OVERALL\"][\"cmc\"][1]"
   ]
  },
  {
   "cell_type": "code",
   "execution_count": null,
   "id": "pressed-absolute",
   "metadata": {
    "scrolled": false
   },
   "outputs": [],
   "source": [
    "ids = random.sample(torch.nonzero(cmc_1_p > cmc_1).squeeze().tolist(), 10)\n",
    "\n",
    "for idx in ids:\n",
    "    fig = clb_metric.metric.get_plot_for_queries([idx], n_instances=4, verbose=False)\n",
    "    fig = clb_metric_p.metric.get_plot_for_queries([idx], n_instances=4, verbose=False)\n"
   ]
  },
  {
   "cell_type": "code",
   "execution_count": null,
   "id": "supposed-necklace",
   "metadata": {},
   "outputs": [],
   "source": []
  },
  {
   "cell_type": "code",
   "execution_count": null,
   "id": "remarkable-resident",
   "metadata": {},
   "outputs": [],
   "source": []
  },
  {
   "cell_type": "code",
   "execution_count": null,
   "id": "extensive-courage",
   "metadata": {},
   "outputs": [],
   "source": []
  },
  {
   "cell_type": "code",
   "execution_count": null,
   "id": "ddeea36c-b974-45db-9bbe-a4ff562f2e98",
   "metadata": {},
   "outputs": [],
   "source": []
  }
 ],
 "metadata": {
  "hide_input": false,
  "kernelspec": {
   "display_name": "Python 3 (ipykernel)",
   "language": "python",
   "name": "python3"
  },
  "language_info": {
   "codemirror_mode": {
    "name": "ipython",
    "version": 3
   },
   "file_extension": ".py",
   "mimetype": "text/x-python",
   "name": "python",
   "nbconvert_exporter": "python",
   "pygments_lexer": "ipython3",
   "version": "3.8.0"
  }
 },
 "nbformat": 4,
 "nbformat_minor": 5
}
