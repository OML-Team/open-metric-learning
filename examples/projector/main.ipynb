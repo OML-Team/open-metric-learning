{
 "cells": [
  {
   "cell_type": "code",
   "execution_count": null,
   "metadata": {},
   "outputs": [],
   "source": [
    "%load_ext autoreload\n",
    "%autoreload 2\n",
    "\n",
    "import sys\n",
    "sys.path.append(\"/Users/ashabanov/code/metric_learning/open-metric-learning\")\n",
    "\n",
    "from IPython.core.display import HTML\n",
    "from IPython.display import display\n",
    "import pandas as pd\n",
    "\n",
    "display(HTML(\"<style>.container { width:100% !important; }</style>\"))\n",
    "pd.set_option('display.max_rows', 330)\n",
    "\n",
    "import numpy as np\n",
    "from functools import lru_cache\n",
    "from collections import defaultdict, Counter\n",
    "from pathlib import Path\n",
    "import pytorch_lightning as pl\n",
    "import torch\n",
    "import torchvision\n",
    "import random\n",
    "from sklearn.model_selection import train_test_split\n",
    "\n",
    "from oml.functional.metrics import calc_retrieval_metrics\n",
    "from oml.utils.misc_torch import pairwise_dist\n",
    "from oml.functional.metrics import calc_gt_mask, calc_mask_to_ignore\n",
    "    \n",
    "from oml.datasets.base import DatasetQueryGallery, DatasetWithLabels\n",
    "from oml.lightning.modules.retrieval import RetrievalModule\n",
    "from oml.lightning.callbacks.metric import MetricValCallback\n",
    "from oml.losses.triplet import TripletLossWithMiner\n",
    "from oml.metrics.embeddings import EmbeddingMetrics\n",
    "from oml.miners.inbatch_all_tri import AllTripletsMiner\n",
    "from oml.miners.inbatch_nhard_tri import NHardTripletsMiner\n",
    "from oml.models.vit.vit import ViTExtractor\n",
    "from oml.samplers.balance import BalanceSampler\n",
    "from oml.utils.download_mock_dataset import download_mock_dataset\n",
    "from oml.interfaces.models import IExtractor\n",
    "\n",
    "from source import get_datasets, ProjExtractor, PrecisionCriterion\n",
    "\n",
    "%matplotlib inline\n"
   ]
  },
  {
   "cell_type": "code",
   "execution_count": null,
   "metadata": {},
   "outputs": [],
   "source": [
    "# todo: check convergency after using dino features on inshop\n",
    "# todo: check the loss calculation\n"
   ]
  },
  {
   "cell_type": "code",
   "execution_count": null,
   "metadata": {},
   "outputs": [],
   "source": [
    "# train_dataset, val_dataset = get_datasets(\n",
    "#     Path(\"/nydl/data/DeepFashion_InShop\"), \"df_no_bboxes.csv\", \"embeddings_vits16_dino.pkl\"\n",
    "# )\n",
    "\n",
    "train_dataset, val_dataset = get_datasets(\n",
    "    Path(\"/nydl/data/Stanford_Online_Products\"), \"df.csv\", \"embeddings_vits16_sop.pkl\"\n",
    ")"
   ]
  },
  {
   "cell_type": "code",
   "execution_count": null,
   "metadata": {
    "scrolled": false
   },
   "outputs": [],
   "source": [
    "model = ProjExtractor(normalise_features=True)\n",
    "\n",
    "# train\n",
    "optimizer = torch.optim.SGD(model.parameters(), lr=3) # todo\n",
    "# criterion = TripletLossWithMiner(margin=0.15, miner=NHardTripletsMiner(n_positive=1, n_negative=1))\n",
    "criterion = PrecisionCriterion()\n",
    "batch_sampler = BalanceSampler(train_dataset.get_labels(), n_labels=800, n_instances=3)  # 3985, 11318\n",
    "train_loader = torch.utils.data.DataLoader(train_dataset, batch_sampler=batch_sampler, num_workers=10)\n",
    "\n",
    "# val\n",
    "val_loader = torch.utils.data.DataLoader(val_dataset, batch_size=10000, shuffle=False, num_workers=10)\n",
    "metric_callback = MetricValCallback(metric=EmbeddingMetrics(cmc_top_k=(1,5)))\n",
    "\n",
    "# run\n",
    "pl_model = RetrievalModule(model, criterion, optimizer)\n",
    "trainer = pl.Trainer(max_epochs=1000, check_val_every_n_epoch=1, callbacks=[metric_callback], num_sanity_val_steps=0, gpus=1, enable_checkpointing=False)\n",
    "trainer.fit(pl_model, train_dataloaders=train_loader, val_dataloaders=val_loader)\n",
    "# trainer.validate(model=pl_model, val_dataloaders=val_loader)\n"
   ]
  },
  {
   "cell_type": "code",
   "execution_count": null,
   "metadata": {},
   "outputs": [],
   "source": [
    "# batch = next(iter(train_loader))\n",
    "# emb = batch[\"input_tensors\"]\n",
    "# labels = batch[\"labels\"]\n",
    "\n",
    "# emb.requires_grad = True\n",
    "\n",
    "# criterion = PrecisionCriterion()\n",
    "# loss = criterion(emb, labels)\n",
    "# loss.backward()\n",
    "\n",
    "# print(loss)\n"
   ]
  },
  {
   "cell_type": "code",
   "execution_count": null,
   "metadata": {},
   "outputs": [],
   "source": [
    "# from source import precision_loss\n",
    "\n",
    "# emb = val_dataset.embeddings\n",
    "# emb.requires_grad = True\n",
    "\n",
    "# labels = torch.tensor(val_dataset.df[\"label\"].to_list())\n",
    "\n",
    "# is_query   = torch.tensor(val_dataset.df[\"is_query\"].to_list()).bool()\n",
    "# is_gallery = torch.tensor(val_dataset.df[\"is_gallery\"].to_list()).bool()\n",
    "\n",
    "# loss = precision_loss(emb, is_query, is_gallery, labels)\n",
    "\n",
    "# loss.backward()\n"
   ]
  },
  {
   "cell_type": "code",
   "execution_count": null,
   "metadata": {},
   "outputs": [],
   "source": [
    "from source import PrecisionCriterion\n",
    "\n",
    "mask_gt = torch.tensor([[1, 0, 0, 1], [1, 1, 0, 1]], requires_grad=False).bool()\n",
    "distances = torch.tensor([[10.1, 3.2, 0.3, 2.4], [0.1, 3.2, 5.3, 2.4]], requires_grad=True)\n",
    "\n",
    "k = 2\n",
    "\n",
    "emb = torch.randn((200,64), requires_grad=True)\n",
    "labels = torch.ones(200)\n",
    "labels[100:] = 2\n",
    "\n",
    "p1 = PrecisionCriterion()(emb, labels)\n",
    "p2 = calc_retrieval_metrics(distances, mask_gt=mask_gt, precision_top_k=(k,))[\"precision\"][k]\n",
    "\n",
    "print(p1, p2)\n",
    "\n",
    "p1.backward()\n"
   ]
  },
  {
   "cell_type": "code",
   "execution_count": null,
   "metadata": {},
   "outputs": [],
   "source": []
  }
 ],
 "metadata": {
  "hide_input": false,
  "kernelspec": {
   "display_name": "Python 3 (ipykernel)",
   "language": "python",
   "name": "python3"
  },
  "language_info": {
   "codemirror_mode": {
    "name": "ipython",
    "version": 3
   },
   "file_extension": ".py",
   "mimetype": "text/x-python",
   "name": "python",
   "nbconvert_exporter": "python",
   "pygments_lexer": "ipython3",
   "version": "3.8.0"
  }
 },
 "nbformat": 4,
 "nbformat_minor": 1
}
