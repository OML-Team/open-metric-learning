{
 "cells": [
  {
   "cell_type": "code",
   "execution_count": null,
   "id": "oriental-clone",
   "metadata": {},
   "outputs": [],
   "source": [
    "%load_ext autoreload\n",
    "%autoreload 2\n",
    "\n",
    "import pandas as pd\n",
    "import yaml\n",
    "from pathlib import Path\n",
    "from IPython.core.display import HTML\n",
    "from IPython.display import display\n",
    "\n",
    "from oml.analysis.visualisation import RetrievalVisualizer\n",
    "from oml.lightning.entrypoints.validate import pl_val\n",
    "from oml.lightning.callbacks.metric import MetricValCallback\n",
    "from oml.const import MOCK_DATASET_PATH\n",
    "from oml.utils.download_mock_dataset import download_mock_dataset, check_mock_dataset_exists\n",
    "\n",
    "display(HTML(\"<style>.container { width:100% !important; }</style>\"))\n",
    "pd.set_option('display.max_rows', 330)\n",
    "\n",
    "%matplotlib inline"
   ]
  },
  {
   "cell_type": "code",
   "execution_count": null,
   "id": "ce20fe1b-c97c-4065-babf-097e4450db0b",
   "metadata": {},
   "outputs": [],
   "source": [
    "if not check_mock_dataset_exists(MOCK_DATASET_PATH):\n",
    "    download_mock_dataset(MOCK_DATASET_PATH);"
   ]
  },
  {
   "cell_type": "code",
   "execution_count": null,
   "id": "mysterious-parallel",
   "metadata": {},
   "outputs": [],
   "source": [
    "cfg = f\"\"\"\n",
    "    dataset_root: {MOCK_DATASET_PATH}\n",
    "    dataframe_name: df.csv\n",
    "    logs_root: logs\n",
    "    bs_val: 128\n",
    "    num_workers: 2\n",
    "    \n",
    "    transforms_val:\n",
    "      name: norm_resize_albu\n",
    "      args:\n",
    "        im_size: 224\n",
    "\n",
    "    model:\n",
    "      name: vit\n",
    "      args:\n",
    "        arch: vits16\n",
    "        normalise_features: False\n",
    "        use_multi_scale: False\n",
    "        weights: vits16_dino\n",
    "\n",
    "    metric_args:\n",
    "      cmc_top_k: [1]\n",
    "      map_top_k: [5]\n",
    "\n",
    "    gpus: []\n",
    "  \n",
    "\"\"\"\n",
    "        \n",
    "trainer, ret_dict = pl_val(yaml.load(cfg, Loader=yaml.Loader));\n",
    "\n",
    "clb_metric = [x for x in trainer.callbacks if isinstance(x, MetricValCallback)][0]\n",
    "# vis = RetrievalVisualizer.from_embeddings_metric(clb_metric.metric)  # todo: fix in next pr\n"
   ]
  },
  {
   "cell_type": "code",
   "execution_count": null,
   "id": "molecular-vertex",
   "metadata": {},
   "outputs": [],
   "source": [
    "# fix in next pr\n",
    "\n",
    "# n_query = clb_metric.metric.distance_matrix.shape[0]\n",
    "\n",
    "# for i in range(min(10, n_query)):\n",
    "#     vis.visualise(query_idx=i, top_k=1, skip_no_errors=False)"
   ]
  },
  {
   "cell_type": "code",
   "execution_count": null,
   "id": "toxic-liberal",
   "metadata": {},
   "outputs": [],
   "source": []
  }
 ],
 "metadata": {
  "hide_input": false,
  "kernelspec": {
   "display_name": "Python 3 (ipykernel)",
   "language": "python",
   "name": "python3"
  },
  "language_info": {
   "codemirror_mode": {
    "name": "ipython",
    "version": 3
   },
   "file_extension": ".py",
   "mimetype": "text/x-python",
   "name": "python",
   "nbconvert_exporter": "python",
   "pygments_lexer": "ipython3",
   "version": "3.8.0"
  }
 },
 "nbformat": 4,
 "nbformat_minor": 5
}
