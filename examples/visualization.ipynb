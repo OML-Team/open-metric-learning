{
 "cells": [
  {
   "cell_type": "code",
   "execution_count": null,
   "id": "oriental-clone",
   "metadata": {},
   "outputs": [],
   "source": [
    "%load_ext autoreload\n",
    "%autoreload 2\n",
    "\n",
    "import yaml\n",
    "\n",
    "import torch\n",
    "import pandas as pd\n",
    "from IPython.core.display import HTML\n",
    "from IPython.display import display\n",
    "from torch.nn.functional import normalize\n",
    "\n",
    "from oml.utils.visualisation import RetrievalVisualizer\n",
    "from oml.lightning.entrypoints.validate import main\n",
    "from oml.functional.metrics import calc_retrieval_metrics\n",
    "\n",
    "display(HTML(\"<style>.container { width:100% !important; }</style>\"))\n",
    "pd.set_option('display.max_rows', 330)\n",
    "\n",
    "%matplotlib inline\n"
   ]
  },
  {
   "cell_type": "code",
   "execution_count": null,
   "id": "mysterious-parallel",
   "metadata": {},
   "outputs": [],
   "source": [
    "cfg = \"\"\"\n",
    "\n",
    "dataset_root: /nydl/data/DeepFashion_InShop/\n",
    "dataframe_name: df_fixed_val.csv\n",
    "logs_root: logs\n",
    "im_size: 304\n",
    "bs_val: 96\n",
    "num_workers: 20\n",
    "\n",
    "model:\n",
    "  name: vit\n",
    "  args:\n",
    "    arch: vits8\n",
    "    normalise_features: True\n",
    "    use_multi_scale: False\n",
    "    weights: /nydl/logs/cur/ml/deepfashion/2022-05-18_12-09-14_deepfashion/checkpoints/best.ckpt\n",
    "    strict_load: True\n",
    "\n",
    "gpus:\n",
    "  - 0\n",
    "  \n",
    "\"\"\"\n",
    "        \n",
    "trainer, ret_dict = main(yaml.load(cfg, Loader=yaml.Loader))\n"
   ]
  },
  {
   "cell_type": "code",
   "execution_count": null,
   "id": "inside-transport",
   "metadata": {},
   "outputs": [],
   "source": [
    "vis = RetrievalVisualizer.from_embeddings_metric(clb_metric.metric)\n"
   ]
  },
  {
   "cell_type": "code",
   "execution_count": null,
   "id": "molecular-vertex",
   "metadata": {
    "scrolled": false
   },
   "outputs": [],
   "source": [
    "n_query = clb_metric.metric.distance_matrix.shape[0]\n",
    "\n",
    "for i in range(min(10, n_query)):\n",
    "    vis.visualise(query_idx=1000 + i, top_k=1, skip_no_errors=True)\n"
   ]
  }
 ],
 "metadata": {
  "hide_input": false,
  "kernelspec": {
   "display_name": "Python 3 (ipykernel)",
   "language": "python",
   "name": "python3"
  },
  "language_info": {
   "codemirror_mode": {
    "name": "ipython",
    "version": 3
   },
   "file_extension": ".py",
   "mimetype": "text/x-python",
   "name": "python",
   "nbconvert_exporter": "python",
   "pygments_lexer": "ipython3",
   "version": "3.8.0"
  }
 },
 "nbformat": 4,
 "nbformat_minor": 5
}
