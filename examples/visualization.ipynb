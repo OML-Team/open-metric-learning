{
 "cells": [
  {
   "cell_type": "code",
   "execution_count": 1,
   "id": "oriental-clone",
   "metadata": {},
   "outputs": [
    {
     "data": {
      "text/html": [
       "<style>.container { width:100% !important; }</style>"
      ],
      "text/plain": [
       "<IPython.core.display.HTML object>"
      ]
     },
     "metadata": {},
     "output_type": "display_data"
    }
   ],
   "source": [
    "%load_ext autoreload\n",
    "%autoreload 2\n",
    "\n",
    "import pandas as pd\n",
    "import yaml\n",
    "from pathlib import Path\n",
    "from IPython.core.display import HTML\n",
    "from IPython.display import display\n",
    "\n",
    "from oml.analysis.visualisation import RetrievalVisualizer\n",
    "from oml.lightning.entrypoints.validate import pl_val\n",
    "from oml.lightning.callbacks.metric import MetricValCallback\n",
    "from oml.const import MOCK_DATASET_PATH\n",
    "from oml.utils.download_mock_dataset import download_mock_dataset, check_mock_dataset_exists\n",
    "\n",
    "display(HTML(\"<style>.container { width:100% !important; }</style>\"))\n",
    "pd.set_option('display.max_rows', 330)\n",
    "\n",
    "%matplotlib inline"
   ]
  },
  {
   "cell_type": "code",
   "execution_count": 2,
   "id": "ce20fe1b-c97c-4065-babf-097e4450db0b",
   "metadata": {},
   "outputs": [],
   "source": [
    "if not check_mock_dataset_exists(MOCK_DATASET_PATH):\n",
    "    download_mock_dataset(MOCK_DATASET_PATH);"
   ]
  },
  {
   "cell_type": "code",
   "execution_count": 3,
   "id": "mysterious-parallel",
   "metadata": {},
   "outputs": [
    {
     "name": "stdout",
     "output_type": "stream",
     "text": [
      "{'dataset_root': '/root/.cache/oml/mock_dataset', 'dataframe_name': 'df_with_bboxes.csv', 'logs_root': 'logs', 'bs_val': 128, 'num_workers': 2, 'transforms_val': {'name': 'norm_resize_albu', 'args': {'im_size': 224}}, 'model': {'name': 'vit', 'args': {'arch': 'vits16', 'normalise_features': False, 'use_multi_scale': False, 'weights': 'vits16_dino'}}, 'metric_args': {'cmc_top_k': [1], 'map_top_k': [5]}, 'gpus': []}\n"
     ]
    },
    {
     "name": "stderr",
     "output_type": "stream",
     "text": [
      "GPU available: True, used: False\n",
      "TPU available: False, using: 0 TPU cores\n",
      "IPU available: False, using: 0 IPUs\n"
     ]
    },
    {
     "name": "stdout",
     "output_type": "stream",
     "text": [
      "Checkpoint is already here.\n"
     ]
    },
    {
     "name": "stderr",
     "output_type": "stream",
     "text": [
      "/usr/local/lib/python3.8/dist-packages/pytorch_lightning/trainer/trainer.py:1584: UserWarning: GPU available but not used. Set the gpus flag in your trainer `Trainer(gpus=1)` or script `--gpus=1`.\n",
      "  rank_zero_warn(\n",
      "/usr/local/lib/python3.8/dist-packages/pytorch_lightning/trainer/configuration_validator.py:143: LightningDeprecationWarning: The `LightningModule.get_progress_bar_dict` method was deprecated in v1.5 and will be removed in v1.7. Please use the `ProgressBarBase.get_metrics` instead.\n",
      "  rank_zero_deprecation(\n",
      "/usr/local/lib/python3.8/dist-packages/pytorch_lightning/trainer/data_loading.py:132: UserWarning: The dataloader, val_dataloader 0, does not have many workers which may be a bottleneck. Consider increasing the value of the `num_workers` argument` (try 48 which is the number of cpus on this machine) in the `DataLoader` init to improve performance.\n",
      "  rank_zero_warn(\n"
     ]
    },
    {
     "data": {
      "application/vnd.jupyter.widget-view+json": {
       "model_id": "",
       "version_major": 2,
       "version_minor": 0
      },
      "text/plain": [
       "Validating: 0it [00:00, ?it/s]"
      ]
     },
     "metadata": {},
     "output_type": "display_data"
    },
    {
     "name": "stdout",
     "output_type": "stream",
     "text": [
      "--------------------------------------------------------------------------------\n",
      "DATALOADER:0 VALIDATE RESULTS\n",
      "{'OVERALL/cmc/1': 1.0, 'OVERALL/map/5': 1.0, 'OVERALL/precision/5': 1.0}\n",
      "--------------------------------------------------------------------------------\n"
     ]
    },
    {
     "name": "stderr",
     "output_type": "stream",
     "text": [
      "/nydl/code/open-metric-learning/oml/functional/metrics.py:68: UserWarning: Your desired k=5 more than gallery_size=4.We'll calculate metrics with k limited by the gallery size.\n",
      "  warnings.warn(\n",
      "/usr/local/lib/python3.8/dist-packages/pytorch_lightning/utilities/data.py:59: UserWarning: Trying to infer the `batch_size` from an ambiguous collection. The batch size we found is 6. To avoid any miscalculations, use `self.log(..., batch_size=batch_size)`.\n",
      "  warning_cache.warn(\n"
     ]
    }
   ],
   "source": [
    "cfg = f\"\"\"\n",
    "    dataset_root: {MOCK_DATASET_PATH}\n",
    "    dataframe_name: df_with_bboxes.csv\n",
    "    logs_root: logs\n",
    "    bs_val: 128\n",
    "    num_workers: 2\n",
    "    \n",
    "    transforms_val:\n",
    "      name: norm_resize_albu\n",
    "      args:\n",
    "        im_size: 224\n",
    "\n",
    "    model:\n",
    "      name: vit\n",
    "      args:\n",
    "        arch: vits16\n",
    "        normalise_features: False\n",
    "        use_multi_scale: False\n",
    "        weights: vits16_dino\n",
    "\n",
    "    metric_args:\n",
    "      cmc_top_k: [1]\n",
    "      map_top_k: [5]\n",
    "\n",
    "    gpus: []\n",
    "  \n",
    "\"\"\"\n",
    "        \n",
    "trainer, ret_dict = pl_val(yaml.load(cfg, Loader=yaml.Loader));\n",
    "\n",
    "clb_metric = [x for x in trainer.callbacks if isinstance(x, MetricValCallback)][0]\n",
    "vis = RetrievalVisualizer.from_embeddings_metric(clb_metric.metric)"
   ]
  },
  {
   "cell_type": "code",
   "execution_count": 4,
   "id": "molecular-vertex",
   "metadata": {},
   "outputs": [
    {
     "name": "stdout",
     "output_type": "stream",
     "text": [
      "Q   /root/.cache/oml/mock_dataset/images/triangle_1.jpg\n",
      "G 0 /root/.cache/oml/mock_dataset/images/triangle_2.jpg\n"
     ]
    },
    {
     "data": {
      "image/png": "[encoded data removed]",
      "text/plain": [
       "<Figure size 2160x1080 with 4 Axes>"
      ]
     },
     "metadata": {
      "needs_background": "light"
     },
     "output_type": "display_data"
    },
    {
     "name": "stdout",
     "output_type": "stream",
     "text": [
      "Q   /root/.cache/oml/mock_dataset/images/rectangle_1.jpg\n",
      "G 0 /root/.cache/oml/mock_dataset/images/rectangle_3.jpg\n"
     ]
    },
    {
     "data": {
      "image/png": "[encoded data removed]",
      "text/plain": [
       "<Figure size 2160x1080 with 4 Axes>"
      ]
     },
     "metadata": {
      "needs_background": "light"
     },
     "output_type": "display_data"
    }
   ],
   "source": [
    "n_query = clb_metric.metric.distance_matrix.shape[0]\n",
    "\n",
    "for i in range(min(10, n_query)):\n",
    "    vis.visualise(query_idx=i, top_k=1, skip_no_errors=False)"
   ]
  },
  {
   "cell_type": "code",
   "execution_count": 33,
   "id": "455ff33d-0ba8-4213-a498-f4a9b26659a9",
   "metadata": {},
   "outputs": [],
   "source": [
    "import numpy as np\n",
    "import matplotlib.pyplot as plt"
   ]
  },
  {
   "cell_type": "code",
   "execution_count": 34,
   "id": "78df2bb5-cd18-402b-b8b7-a54825d2748c",
   "metadata": {},
   "outputs": [],
   "source": [
    "plt.imsave('/root/.cache/oml/mock_dataset/images/rectangle_2.jpg', np.eye(1024, 200))"
   ]
  },
  {
   "cell_type": "code",
   "execution_count": null,
   "id": "15bfad91-531e-4d75-8bb6-42b60923760b",
   "metadata": {},
   "outputs": [],
   "source": []
  },
  {
   "cell_type": "code",
   "execution_count": 37,
   "id": "c8702e05-b3c2-4160-aa30-4ff5ffbf40d5",
   "metadata": {},
   "outputs": [],
   "source": [
    "import albumentations as albu"
   ]
  },
  {
   "cell_type": "code",
   "execution_count": 42,
   "id": "34ffd687-38f9-4f3f-b1f0-9e5c964f60b8",
   "metadata": {},
   "outputs": [
    {
     "data": {
      "text/plain": [
       "array([[0.  , 0.  , 0.5 , ..., 0.  , 0.  , 0.  ],\n",
       "       [0.  , 0.5 , 0.  , ..., 0.  , 0.  , 0.  ],\n",
       "       [0.45, 0.  , 0.  , ..., 0.  , 0.  , 0.  ],\n",
       "       ...,\n",
       "       [0.  , 0.  , 0.  , ..., 0.  , 0.  , 0.  ],\n",
       "       [0.  , 0.  , 0.  , ..., 0.  , 0.  , 0.  ],\n",
       "       [0.  , 0.  , 0.  , ..., 0.  , 0.  , 0.  ]])"
      ]
     },
     "execution_count": 42,
     "metadata": {},
     "output_type": "execute_result"
    }
   ],
   "source": [
    "\n",
    "albu.Compose(\n",
    "    [\n",
    "        albu.LongestMaxSize(max_size=100),\n",
    "        albu.PadIfNeeded(min_height=100, min_width=100),\n",
    "    ]\n",
    ")(\n",
    "    image=\n",
    ")['image']"
   ]
  },
  {
   "cell_type": "code",
   "execution_count": 47,
   "id": "be704c0a-e610-4e15-be00-081c85817529",
   "metadata": {},
   "outputs": [
    {
     "data": {
      "text/plain": [
       "<matplotlib.image.AxesImage at 0x7ff0c48c2f70>"
      ]
     },
     "execution_count": 47,
     "metadata": {},
     "output_type": "execute_result"
    },
    {
     "data": {
      "image/png": "[encoded data removed]",
      "text/plain": [
       "<Figure size 432x288 with 1 Axes>"
      ]
     },
     "metadata": {
      "needs_background": "light"
     },
     "output_type": "display_data"
    }
   ],
   "source": [
    "img = np.eye(1024, 200)\n",
    "\n",
    "\n",
    "plt.imshow()"
   ]
  },
  {
   "cell_type": "code",
   "execution_count": null,
   "id": "4a0fbed4-6eb6-470b-8737-37a76fb8b920",
   "metadata": {},
   "outputs": [],
   "source": []
  },
  {
   "cell_type": "code",
   "execution_count": null,
   "id": "a6501511-9b14-4bcb-84b4-72dd6a3b529a",
   "metadata": {},
   "outputs": [],
   "source": [
    "import"
   ]
  },
  {
   "cell_type": "code",
   "execution_count": null,
   "id": "aeb1bd30-9fa9-4d9a-a4f9-e1ee9a4bbb2a",
   "metadata": {},
   "outputs": [],
   "source": []
  }
 ],
 "metadata": {
  "hide_input": false,
  "kernelspec": {
   "display_name": "Python 3 (ipykernel)",
   "language": "python",
   "name": "python3"
  },
  "language_info": {
   "codemirror_mode": {
    "name": "ipython",
    "version": 3
   },
   "file_extension": ".py",
   "mimetype": "text/x-python",
   "name": "python",
   "nbconvert_exporter": "python",
   "pygments_lexer": "ipython3",
   "version": "3.8.0"
  }
 },
 "nbformat": 4,
 "nbformat_minor": 5
}
